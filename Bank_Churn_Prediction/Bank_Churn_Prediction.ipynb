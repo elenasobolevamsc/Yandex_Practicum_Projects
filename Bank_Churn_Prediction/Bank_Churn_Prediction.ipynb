{
 "cells": [
  {
   "cell_type": "markdown",
   "source": [
    "# 1. Подготовка данных"
   ],
   "metadata": {
    "collapsed": false
   }
  },
  {
   "cell_type": "code",
   "execution_count": 2,
   "outputs": [],
   "source": [
    "import warnings\n",
    "warnings.filterwarnings('ignore')\n",
    "\n",
    "import optuna\n",
    "import mlflow\n",
    "import joblib\n",
    "import pandas as pd\n",
    "import xgboost as xgb\n",
    "import numpy as np\n",
    "import matplotlib.pyplot as plt\n",
    "\n",
    "from imblearn.over_sampling import SMOTE\n",
    "from imblearn.pipeline import Pipeline\n",
    "from sklearn.model_selection import train_test_split, cross_val_score\n",
    "from sklearn.preprocessing import OneHotEncoder, StandardScaler, PowerTransformer\n",
    "from sklearn.compose import ColumnTransformer\n",
    "from sklearn.impute import SimpleImputer\n",
    "from sklearn.ensemble import RandomForestClassifier\n",
    "from sklearn.linear_model import LogisticRegression\n",
    "from sklearn.svm import SVC\n",
    "from sklearn.metrics import roc_auc_score, roc_curve, f1_score, balanced_accuracy_score\n",
    "\n",
    "mlflow.set_tracking_uri(\"http://127.0.0.1:8000\")\n",
    "client=mlflow.MlflowClient(tracking_uri='http://127.0.0.1:8000')\n",
    "optuna.logging.set_verbosity(optuna.logging.WARNING)"
   ],
   "metadata": {
    "collapsed": false,
    "ExecuteTime": {
     "end_time": "2023-12-07T09:28:11.919274100Z",
     "start_time": "2023-12-07T09:28:01.356392900Z"
    }
   }
  },
  {
   "cell_type": "code",
   "execution_count": 8,
   "outputs": [],
   "source": [
    "df = pd.read_csv('Churn.csv')"
   ],
   "metadata": {
    "collapsed": false,
    "ExecuteTime": {
     "end_time": "2023-12-07T09:31:16.984274Z",
     "start_time": "2023-12-07T09:31:16.872480300Z"
    }
   }
  },
  {
   "cell_type": "code",
   "execution_count": 9,
   "outputs": [
    {
     "data": {
      "text/plain": "   RowNumber  CustomerId   Surname  CreditScore Geography  Gender  Age  \\\n0          1    15634602  Hargrave          619    France  Female   42   \n1          2    15647311      Hill          608     Spain  Female   41   \n2          3    15619304      Onio          502    France  Female   42   \n3          4    15701354      Boni          699    France  Female   39   \n4          5    15737888  Mitchell          850     Spain  Female   43   \n\n   Tenure    Balance  NumOfProducts  HasCrCard  IsActiveMember  \\\n0     2.0       0.00              1          1               1   \n1     1.0   83807.86              1          0               1   \n2     8.0  159660.80              3          1               0   \n3     1.0       0.00              2          0               0   \n4     2.0  125510.82              1          1               1   \n\n   EstimatedSalary  Exited  \n0        101348.88       1  \n1        112542.58       0  \n2        113931.57       1  \n3         93826.63       0  \n4         79084.10       0  ",
      "text/html": "<div>\n<style scoped>\n    .dataframe tbody tr th:only-of-type {\n        vertical-align: middle;\n    }\n\n    .dataframe tbody tr th {\n        vertical-align: top;\n    }\n\n    .dataframe thead th {\n        text-align: right;\n    }\n</style>\n<table border=\"1\" class=\"dataframe\">\n  <thead>\n    <tr style=\"text-align: right;\">\n      <th></th>\n      <th>RowNumber</th>\n      <th>CustomerId</th>\n      <th>Surname</th>\n      <th>CreditScore</th>\n      <th>Geography</th>\n      <th>Gender</th>\n      <th>Age</th>\n      <th>Tenure</th>\n      <th>Balance</th>\n      <th>NumOfProducts</th>\n      <th>HasCrCard</th>\n      <th>IsActiveMember</th>\n      <th>EstimatedSalary</th>\n      <th>Exited</th>\n    </tr>\n  </thead>\n  <tbody>\n    <tr>\n      <th>0</th>\n      <td>1</td>\n      <td>15634602</td>\n      <td>Hargrave</td>\n      <td>619</td>\n      <td>France</td>\n      <td>Female</td>\n      <td>42</td>\n      <td>2.0</td>\n      <td>0.00</td>\n      <td>1</td>\n      <td>1</td>\n      <td>1</td>\n      <td>101348.88</td>\n      <td>1</td>\n    </tr>\n    <tr>\n      <th>1</th>\n      <td>2</td>\n      <td>15647311</td>\n      <td>Hill</td>\n      <td>608</td>\n      <td>Spain</td>\n      <td>Female</td>\n      <td>41</td>\n      <td>1.0</td>\n      <td>83807.86</td>\n      <td>1</td>\n      <td>0</td>\n      <td>1</td>\n      <td>112542.58</td>\n      <td>0</td>\n    </tr>\n    <tr>\n      <th>2</th>\n      <td>3</td>\n      <td>15619304</td>\n      <td>Onio</td>\n      <td>502</td>\n      <td>France</td>\n      <td>Female</td>\n      <td>42</td>\n      <td>8.0</td>\n      <td>159660.80</td>\n      <td>3</td>\n      <td>1</td>\n      <td>0</td>\n      <td>113931.57</td>\n      <td>1</td>\n    </tr>\n    <tr>\n      <th>3</th>\n      <td>4</td>\n      <td>15701354</td>\n      <td>Boni</td>\n      <td>699</td>\n      <td>France</td>\n      <td>Female</td>\n      <td>39</td>\n      <td>1.0</td>\n      <td>0.00</td>\n      <td>2</td>\n      <td>0</td>\n      <td>0</td>\n      <td>93826.63</td>\n      <td>0</td>\n    </tr>\n    <tr>\n      <th>4</th>\n      <td>5</td>\n      <td>15737888</td>\n      <td>Mitchell</td>\n      <td>850</td>\n      <td>Spain</td>\n      <td>Female</td>\n      <td>43</td>\n      <td>2.0</td>\n      <td>125510.82</td>\n      <td>1</td>\n      <td>1</td>\n      <td>1</td>\n      <td>79084.10</td>\n      <td>0</td>\n    </tr>\n  </tbody>\n</table>\n</div>"
     },
     "execution_count": 9,
     "metadata": {},
     "output_type": "execute_result"
    }
   ],
   "source": [
    "df.head()"
   ],
   "metadata": {
    "collapsed": false,
    "ExecuteTime": {
     "end_time": "2023-12-07T09:31:17.787243700Z",
     "start_time": "2023-12-07T09:31:17.729921100Z"
    }
   }
  },
  {
   "cell_type": "code",
   "execution_count": 10,
   "outputs": [
    {
     "name": "stdout",
     "output_type": "stream",
     "text": [
      "<class 'pandas.core.frame.DataFrame'>\n",
      "RangeIndex: 10000 entries, 0 to 9999\n",
      "Data columns (total 14 columns):\n",
      " #   Column           Non-Null Count  Dtype  \n",
      "---  ------           --------------  -----  \n",
      " 0   RowNumber        10000 non-null  int64  \n",
      " 1   CustomerId       10000 non-null  int64  \n",
      " 2   Surname          10000 non-null  object \n",
      " 3   CreditScore      10000 non-null  int64  \n",
      " 4   Geography        10000 non-null  object \n",
      " 5   Gender           10000 non-null  object \n",
      " 6   Age              10000 non-null  int64  \n",
      " 7   Tenure           9091 non-null   float64\n",
      " 8   Balance          10000 non-null  float64\n",
      " 9   NumOfProducts    10000 non-null  int64  \n",
      " 10  HasCrCard        10000 non-null  int64  \n",
      " 11  IsActiveMember   10000 non-null  int64  \n",
      " 12  EstimatedSalary  10000 non-null  float64\n",
      " 13  Exited           10000 non-null  int64  \n",
      "dtypes: float64(3), int64(8), object(3)\n",
      "memory usage: 1.1+ MB\n"
     ]
    }
   ],
   "source": [
    "df.info()"
   ],
   "metadata": {
    "collapsed": false,
    "ExecuteTime": {
     "end_time": "2023-12-07T09:31:22.271253300Z",
     "start_time": "2023-12-07T09:31:22.035644700Z"
    }
   }
  },
  {
   "cell_type": "code",
   "execution_count": 11,
   "outputs": [
    {
     "data": {
      "text/plain": "0"
     },
     "execution_count": 11,
     "metadata": {},
     "output_type": "execute_result"
    }
   ],
   "source": [
    "# проверим наличие явных дубликатов:\n",
    "df.duplicated().sum()"
   ],
   "metadata": {
    "collapsed": false,
    "ExecuteTime": {
     "end_time": "2023-12-07T09:31:23.766245900Z",
     "start_time": "2023-12-07T09:31:23.672009200Z"
    }
   }
  },
  {
   "cell_type": "code",
   "execution_count": 12,
   "outputs": [
    {
     "data": {
      "text/plain": "Geography\nFrance     5014\nGermany    2509\nSpain      2477\nName: count, dtype: int64"
     },
     "metadata": {},
     "output_type": "display_data"
    },
    {
     "data": {
      "text/plain": "Tenure\n1.0     952\n2.0     950\n8.0     933\n3.0     928\n5.0     927\n7.0     925\n4.0     885\n9.0     882\n6.0     881\n10.0    446\n0.0     382\nName: count, dtype: int64"
     },
     "metadata": {},
     "output_type": "display_data"
    },
    {
     "data": {
      "text/plain": "NumOfProducts\n1    5084\n2    4590\n3     266\n4      60\nName: count, dtype: int64"
     },
     "metadata": {},
     "output_type": "display_data"
    },
    {
     "data": {
      "text/plain": "Gender\nMale      5457\nFemale    4543\nName: count, dtype: int64"
     },
     "metadata": {},
     "output_type": "display_data"
    },
    {
     "data": {
      "text/plain": "HasCrCard\n1    7055\n0    2945\nName: count, dtype: int64"
     },
     "metadata": {},
     "output_type": "display_data"
    },
    {
     "data": {
      "text/plain": "IsActiveMember\n1    5151\n0    4849\nName: count, dtype: int64"
     },
     "metadata": {},
     "output_type": "display_data"
    }
   ],
   "source": [
    "# посмотрим уникальные значения в категориальных признаках:\n",
    "cat_columns = ['Geography', 'Tenure', 'NumOfProducts', 'Gender', 'HasCrCard', 'IsActiveMember']\n",
    "for col in cat_columns:\n",
    "    display(df[col].value_counts())"
   ],
   "metadata": {
    "collapsed": false,
    "ExecuteTime": {
     "end_time": "2023-12-07T09:31:28.087619600Z",
     "start_time": "2023-12-07T09:31:28.005280700Z"
    }
   }
  },
  {
   "cell_type": "code",
   "execution_count": 13,
   "outputs": [
    {
     "data": {
      "text/plain": "Exited\n0    7963\n1    2037\nName: count, dtype: int64"
     },
     "execution_count": 13,
     "metadata": {},
     "output_type": "execute_result"
    }
   ],
   "source": [
    "# посчитаем классы в целевом признаке:\n",
    "df['Exited'].value_counts()"
   ],
   "metadata": {
    "collapsed": false,
    "ExecuteTime": {
     "end_time": "2023-12-07T09:31:29.164112400Z",
     "start_time": "2023-12-07T09:31:29.082923200Z"
    }
   }
  },
  {
   "cell_type": "markdown",
   "source": [
    "Можно отметить, что дубликаты в датасете отсутствуют, в столбце Tenure есть около тысячи пропусков, а также несколько столбцов лучше вообще удалить, из них:\n",
    "\n",
    "- RowNumber - это индекс строки в данных, важной информации не содержит;\n",
    "- CustomerId - уникальный идентификатор клиента, по нему мы проверили дубликаты и теперь его можно удалить;\n",
    "- Surname - фамилия, которая тоже не имеет связи с оттоком клиентов.\n",
    "\n",
    "После проверки датасета на сбалансированность классов в таргете мы видим, что объектов отрицательного класса намного больше (почти в четыре раза), но все равно уходит примерно 20% клиентов. В столбце Geography находятся всего 3 уникальных значения: France, Germany и Spain. В столбце Tenure (сколько лет человек является клиентом банка) есть 909 пропусков. Заполним их значением -1, добавив логический параметр add_indicator=True. Есть несколько бинарных признаков (HasCrCard, IsActiveMember), которые выделим в отдельную категорию признаков."
   ],
   "metadata": {
    "collapsed": false
   }
  },
  {
   "cell_type": "code",
   "execution_count": 14,
   "outputs": [],
   "source": [
    "# удалим ненужные столбцы:\n",
    "df.drop([\"RowNumber\", \"CustomerId\", \"Surname\"], axis=1, inplace=True)"
   ],
   "metadata": {
    "collapsed": false,
    "ExecuteTime": {
     "end_time": "2023-12-07T09:31:31.655236300Z",
     "start_time": "2023-12-07T09:31:31.567138500Z"
    }
   }
  },
  {
   "cell_type": "code",
   "execution_count": 15,
   "outputs": [
    {
     "data": {
      "text/plain": "   CreditScore Geography  Gender  Age  Tenure    Balance  NumOfProducts  \\\n0          619    France  Female   42     2.0       0.00              1   \n1          608     Spain  Female   41     1.0   83807.86              1   \n2          502    France  Female   42     8.0  159660.80              3   \n3          699    France  Female   39     1.0       0.00              2   \n4          850     Spain  Female   43     2.0  125510.82              1   \n\n   HasCrCard  IsActiveMember  EstimatedSalary  Exited  \n0          1               1        101348.88       1  \n1          0               1        112542.58       0  \n2          1               0        113931.57       1  \n3          0               0         93826.63       0  \n4          1               1         79084.10       0  ",
      "text/html": "<div>\n<style scoped>\n    .dataframe tbody tr th:only-of-type {\n        vertical-align: middle;\n    }\n\n    .dataframe tbody tr th {\n        vertical-align: top;\n    }\n\n    .dataframe thead th {\n        text-align: right;\n    }\n</style>\n<table border=\"1\" class=\"dataframe\">\n  <thead>\n    <tr style=\"text-align: right;\">\n      <th></th>\n      <th>CreditScore</th>\n      <th>Geography</th>\n      <th>Gender</th>\n      <th>Age</th>\n      <th>Tenure</th>\n      <th>Balance</th>\n      <th>NumOfProducts</th>\n      <th>HasCrCard</th>\n      <th>IsActiveMember</th>\n      <th>EstimatedSalary</th>\n      <th>Exited</th>\n    </tr>\n  </thead>\n  <tbody>\n    <tr>\n      <th>0</th>\n      <td>619</td>\n      <td>France</td>\n      <td>Female</td>\n      <td>42</td>\n      <td>2.0</td>\n      <td>0.00</td>\n      <td>1</td>\n      <td>1</td>\n      <td>1</td>\n      <td>101348.88</td>\n      <td>1</td>\n    </tr>\n    <tr>\n      <th>1</th>\n      <td>608</td>\n      <td>Spain</td>\n      <td>Female</td>\n      <td>41</td>\n      <td>1.0</td>\n      <td>83807.86</td>\n      <td>1</td>\n      <td>0</td>\n      <td>1</td>\n      <td>112542.58</td>\n      <td>0</td>\n    </tr>\n    <tr>\n      <th>2</th>\n      <td>502</td>\n      <td>France</td>\n      <td>Female</td>\n      <td>42</td>\n      <td>8.0</td>\n      <td>159660.80</td>\n      <td>3</td>\n      <td>1</td>\n      <td>0</td>\n      <td>113931.57</td>\n      <td>1</td>\n    </tr>\n    <tr>\n      <th>3</th>\n      <td>699</td>\n      <td>France</td>\n      <td>Female</td>\n      <td>39</td>\n      <td>1.0</td>\n      <td>0.00</td>\n      <td>2</td>\n      <td>0</td>\n      <td>0</td>\n      <td>93826.63</td>\n      <td>0</td>\n    </tr>\n    <tr>\n      <th>4</th>\n      <td>850</td>\n      <td>Spain</td>\n      <td>Female</td>\n      <td>43</td>\n      <td>2.0</td>\n      <td>125510.82</td>\n      <td>1</td>\n      <td>1</td>\n      <td>1</td>\n      <td>79084.10</td>\n      <td>0</td>\n    </tr>\n  </tbody>\n</table>\n</div>"
     },
     "execution_count": 15,
     "metadata": {},
     "output_type": "execute_result"
    }
   ],
   "source": [
    "df.head()"
   ],
   "metadata": {
    "collapsed": false,
    "ExecuteTime": {
     "end_time": "2023-12-07T09:31:35.145640Z",
     "start_time": "2023-12-07T09:31:35.022831700Z"
    }
   }
  },
  {
   "cell_type": "code",
   "execution_count": 16,
   "outputs": [
    {
     "name": "stdout",
     "output_type": "stream",
     "text": [
      "<class 'pandas.core.frame.DataFrame'>\n",
      "RangeIndex: 10000 entries, 0 to 9999\n",
      "Data columns (total 11 columns):\n",
      " #   Column           Non-Null Count  Dtype  \n",
      "---  ------           --------------  -----  \n",
      " 0   CreditScore      10000 non-null  int64  \n",
      " 1   Geography        10000 non-null  object \n",
      " 2   Gender           10000 non-null  object \n",
      " 3   Age              10000 non-null  int64  \n",
      " 4   Tenure           9091 non-null   float64\n",
      " 5   Balance          10000 non-null  float64\n",
      " 6   NumOfProducts    10000 non-null  int64  \n",
      " 7   HasCrCard        10000 non-null  int64  \n",
      " 8   IsActiveMember   10000 non-null  int64  \n",
      " 9   EstimatedSalary  10000 non-null  float64\n",
      " 10  Exited           10000 non-null  int64  \n",
      "dtypes: float64(3), int64(6), object(2)\n",
      "memory usage: 859.5+ KB\n"
     ]
    }
   ],
   "source": [
    "df.info()"
   ],
   "metadata": {
    "collapsed": false,
    "ExecuteTime": {
     "end_time": "2023-12-07T09:31:37.617590Z",
     "start_time": "2023-12-07T09:31:37.507404900Z"
    }
   }
  },
  {
   "cell_type": "code",
   "execution_count": 17,
   "outputs": [],
   "source": [
    "# сохраним признаки и целевой признак в отдельных переменных:\n",
    "y = df['Exited']\n",
    "X = df.drop('Exited', axis=1)"
   ],
   "metadata": {
    "collapsed": false,
    "ExecuteTime": {
     "end_time": "2023-12-07T09:31:39.320471100Z",
     "start_time": "2023-12-07T09:31:39.241339600Z"
    }
   }
  },
  {
   "cell_type": "code",
   "execution_count": 18,
   "outputs": [],
   "source": [
    "# разобьем исходные данные на обучающую и тестовую выборки в соотношении 4:1:\n",
    "X_train, X_test, y_train, y_test = train_test_split(X, y, test_size=0.2, random_state=12345, stratify=y)"
   ],
   "metadata": {
    "collapsed": false,
    "ExecuteTime": {
     "end_time": "2023-12-07T09:31:40.656377700Z",
     "start_time": "2023-12-07T09:31:40.588947500Z"
    }
   }
  },
  {
   "cell_type": "code",
   "execution_count": 13,
   "outputs": [
    {
     "name": "stdout",
     "output_type": "stream",
     "text": [
      "Размер обучающей выборки: (8000, 10)\n",
      "Размер тестовой выборки: (2000, 10)\n"
     ]
    }
   ],
   "source": [
    "# посмотрим на размеры выборок:\n",
    "print('Размер обучающей выборки:', X_train.shape)\n",
    "print('Размер тестовой выборки:', X_test.shape)"
   ],
   "metadata": {
    "collapsed": false,
    "ExecuteTime": {
     "end_time": "2023-12-05T20:59:53.409129Z",
     "start_time": "2023-12-05T20:59:53.325388200Z"
    }
   }
  },
  {
   "cell_type": "code",
   "execution_count": 14,
   "outputs": [],
   "source": [
    "# внесем в переменные списки все численные и категориальные признаки:\n",
    "categorical_features = X_train.select_dtypes(include=['object']).columns.tolist()\n",
    "numeric_features = X_train.select_dtypes(exclude=['object']).columns.tolist()\n",
    "binary_features = ['HasCrCard', 'IsActiveMember']\n",
    "numeric_features = list(set(numeric_features) - set(binary_features))"
   ],
   "metadata": {
    "collapsed": false,
    "ExecuteTime": {
     "end_time": "2023-12-05T20:59:53.899034500Z",
     "start_time": "2023-12-05T20:59:53.819600700Z"
    }
   }
  },
  {
   "cell_type": "markdown",
   "source": [
    "# 2. Обучение модели без учёта дисбаланса классов (XGBoost)"
   ],
   "metadata": {
    "collapsed": false
   }
  },
  {
   "cell_type": "markdown",
   "source": [
    "Для автоматизации процесса подготовим численный и категориальный пайплайны.\n",
    "- Для категориальных признаков (Geography, Gender) используем One Hot Encoding.\n",
    "- Для заполнения пропусков используем SimpleImputer.\n",
    "- Выполним трансформацию Йео-Джонсона.\n",
    "- Для моделей логистической регрессии и SVM выполним масштабирование данных; для моделей, основанных на деревьях (XGBoost и Random Forest), выполнять его не будем.\n",
    "- Объединим пайплайны классом ColumnTransformer.\n",
    "- Используем optuna для автоматизированного поиска оптимальных гиперпараметров для моделей.\n",
    "- Используем mlflow для того, чтобы легко выбрать лучшие модели среди всех экспериментов и при этом легко сравнивать метрики качества (будем сравнивать f1 на кроссвалидации, на тестовом наборе сравним f1, ROC-AUC и balanced accuracy)."
   ],
   "metadata": {
    "collapsed": false
   }
  },
  {
   "cell_type": "code",
   "execution_count": 15,
   "outputs": [],
   "source": [
    "cat_pipeline = Pipeline([\n",
    "    ('enc', OneHotEncoder(handle_unknown='error', drop='first'))\n",
    "])\n",
    "\n",
    "num_pipeline = Pipeline([\n",
    "    ('imp', SimpleImputer(fill_value=-1, add_indicator=True)),\n",
    "    ('pt', PowerTransformer()) \n",
    "])\n",
    "\n",
    "preprocessor = ColumnTransformer([\n",
    "    (\"cat\", cat_pipeline, categorical_features),\n",
    "    (\"num\", num_pipeline, numeric_features)\n",
    "\n",
    "], remainder='passthrough')\n",
    "\n",
    "pipe = Pipeline([\n",
    "    ('preprocessor', preprocessor),\n",
    "    ('model', xgb.XGBClassifier(random_state=12345))\n",
    "])"
   ],
   "metadata": {
    "collapsed": false,
    "ExecuteTime": {
     "end_time": "2023-12-05T20:59:55.628643500Z",
     "start_time": "2023-12-05T20:59:55.597765400Z"
    }
   }
  },
  {
   "cell_type": "code",
   "execution_count": 16,
   "outputs": [],
   "source": [
    "def optuna_optimize(trial):\n",
    "    param_grid = {\n",
    "        'model__n_estimators': trial.suggest_int('model__n_estimators', 50, 500),\n",
    "        'model__max_depth': trial.suggest_int('model__max_depth', 2, 16),\n",
    "        'model__learning_rate': trial.suggest_float('model__learning_rate', 0.01, 1.0),\n",
    "        'model__gamma': trial.suggest_float('model__gamma', 0.0, 20.0),\n",
    "        'model__reg_lambda': trial.suggest_float('model__reg_lambda', 0.0, 1.0),\n",
    "        'model__min_child_weight': trial.suggest_float('model__min_child_weight', 0.0, 5.0)\n",
    "    }\n",
    "\n",
    "    pipe.set_params(**param_grid)\n",
    "    score = cross_val_score(pipe, X_train, y_train, cv=5, scoring='f1').mean()\n",
    "    return score"
   ],
   "metadata": {
    "collapsed": false,
    "ExecuteTime": {
     "end_time": "2023-12-05T20:59:56.133190200Z",
     "start_time": "2023-12-05T20:59:56.086193600Z"
    }
   }
  },
  {
   "cell_type": "code",
   "execution_count": 17,
   "outputs": [],
   "source": [
    "study_xgb = optuna.create_study(study_name=\"XGBoost Optuna Optimization Imbalanced\",\n",
    "                                direction='maximize')"
   ],
   "metadata": {
    "collapsed": false,
    "ExecuteTime": {
     "end_time": "2023-12-05T20:59:56.612039600Z",
     "start_time": "2023-12-05T20:59:56.549187900Z"
    }
   }
  },
  {
   "cell_type": "code",
   "execution_count": 18,
   "outputs": [],
   "source": [
    "study_xgb.optimize(optuna_optimize, n_trials=1000)"
   ],
   "metadata": {
    "collapsed": false,
    "ExecuteTime": {
     "end_time": "2023-12-05T21:24:52.967106400Z",
     "start_time": "2023-12-05T20:59:57.658033400Z"
    }
   }
  },
  {
   "cell_type": "code",
   "execution_count": 19,
   "outputs": [
    {
     "name": "stdout",
     "output_type": "stream",
     "text": [
      "Наилучшие значения гиперпараметров XGBoost: {'model__n_estimators': 408, 'model__max_depth': 9, 'model__learning_rate': 0.8585807178889413, 'model__gamma': 5.339859733348884, 'model__reg_lambda': 0.7845690703506853, 'model__min_child_weight': 1.5066771081317696}\n",
      "f1_score на обучающем наборе: 0.599\n"
     ]
    }
   ],
   "source": [
    "print(\"Наилучшие значения гиперпараметров XGBoost: {}\".format(study_xgb.best_params))\n",
    "print(\"f1_score на обучающем наборе: {:.3f}\". format(study_xgb.best_value))"
   ],
   "metadata": {
    "collapsed": false,
    "ExecuteTime": {
     "end_time": "2023-12-05T21:24:52.981529900Z",
     "start_time": "2023-12-05T21:24:52.981529900Z"
    }
   }
  },
  {
   "cell_type": "code",
   "execution_count": 20,
   "outputs": [],
   "source": [
    "with mlflow.start_run(nested=True,\n",
    "                      run_name='xgb_pipeline_imbalanced'):\n",
    "\n",
    "    best_params = study_xgb.best_params\n",
    "    best_score = study_xgb.best_value\n",
    "    mlflow.log_params(best_params)\n",
    "\n",
    "    pipe.set_params(**best_params)\n",
    "    pipe.fit(X_train, y_train)\n",
    "    pred_proba = pipe.predict_proba(X_test)[:, 1]\n",
    "    roc_auc_xgb_imb = roc_auc_score(y_test, pred_proba)\n",
    "    \n",
    "    mlflow.log_metrics({\n",
    "        'f1_cv': best_score,\n",
    "        'roc_auc': roc_auc_xgb_imb,\n",
    "        'balanced_accuracy': balanced_accuracy_score(y_test, np.round(pred_proba)),\n",
    "        'f1': f1_score(y_test, np.round(pred_proba))\n",
    "    })\n",
    "\n",
    "    mlflow.sklearn.log_model(pipe, 'xgb_pipeline_imbalanced')"
   ],
   "metadata": {
    "collapsed": false,
    "ExecuteTime": {
     "end_time": "2023-12-05T21:25:03.601525700Z",
     "start_time": "2023-12-05T21:24:52.981529900Z"
    }
   }
  },
  {
   "cell_type": "markdown",
   "source": [
    "# 3. Обучение моделей с учётом дисбаланса классов\n",
    "## 3.1 Назначение разных весов классам (cost-sensitive learning)\n",
    "### 3.1.1 Модель XGBoost"
   ],
   "metadata": {
    "collapsed": false
   }
  },
  {
   "cell_type": "code",
   "execution_count": 21,
   "outputs": [],
   "source": [
    "cat_pipeline = Pipeline([\n",
    "    ('enc', OneHotEncoder(handle_unknown='error', drop='first'))\n",
    "])\n",
    "\n",
    "num_pipeline = Pipeline([\n",
    "    ('imp', SimpleImputer(fill_value=-1, add_indicator=True)),\n",
    "    ('pt', PowerTransformer())\n",
    "])\n",
    "\n",
    "preprocessor = ColumnTransformer([\n",
    "    (\"cat\", cat_pipeline, categorical_features),\n",
    "    (\"num\", num_pipeline, numeric_features)\n",
    "\n",
    "], remainder='passthrough')"
   ],
   "metadata": {
    "collapsed": false,
    "ExecuteTime": {
     "end_time": "2023-12-05T21:25:03.617147400Z",
     "start_time": "2023-12-05T21:25:03.607980500Z"
    }
   }
  },
  {
   "cell_type": "code",
   "execution_count": 22,
   "outputs": [],
   "source": [
    "def optuna_optimize(trial):\n",
    "    param = {\n",
    "        'n_estimators': trial.suggest_int('n_estimators', 50, 500),\n",
    "        'max_depth': trial.suggest_int('max_depth', 2, 16),\n",
    "        'learning_rate': trial.suggest_float('learning_rate', 0.01, 1.0),\n",
    "        'gamma': trial.suggest_float('gamma', 0.0, 20.0),\n",
    "        'reg_lambda': trial.suggest_float('reg_lambda', 0.0, 1.0),\n",
    "        'min_child_weight': trial.suggest_float('min_child_weight', 0.0, 5.0)\n",
    "    }\n",
    "\n",
    "    estimator = xgb.XGBClassifier(**param, \n",
    "                                  scale_pos_weight=3.91,\n",
    "                                  random_state=12345)\n",
    "    \n",
    "    xgb_pipe = Pipeline([\n",
    "        ('preprocessor', preprocessor),\n",
    "        ('model', estimator)\n",
    "    ])\n",
    "\n",
    "    score = cross_val_score(xgb_pipe, X_train, y_train, cv=5, scoring='f1').mean()\n",
    "    return score"
   ],
   "metadata": {
    "collapsed": false,
    "ExecuteTime": {
     "end_time": "2023-12-05T21:25:03.667380Z",
     "start_time": "2023-12-05T21:25:03.617147400Z"
    }
   }
  },
  {
   "cell_type": "code",
   "execution_count": 23,
   "outputs": [],
   "source": [
    "study_xgb_cw = optuna.create_study(study_name=\"XGBoost Optuna Optimization Class Weight\",\n",
    "                                direction='maximize')"
   ],
   "metadata": {
    "collapsed": false,
    "ExecuteTime": {
     "end_time": "2023-12-05T21:25:03.667380Z",
     "start_time": "2023-12-05T21:25:03.633019200Z"
    }
   }
  },
  {
   "cell_type": "code",
   "execution_count": 24,
   "outputs": [],
   "source": [
    "study_xgb_cw.optimize(optuna_optimize, n_trials=1000)"
   ],
   "metadata": {
    "collapsed": false,
    "ExecuteTime": {
     "end_time": "2023-12-05T21:49:15.913310700Z",
     "start_time": "2023-12-05T21:25:03.647824500Z"
    }
   }
  },
  {
   "cell_type": "code",
   "execution_count": 25,
   "outputs": [
    {
     "name": "stdout",
     "output_type": "stream",
     "text": [
      "Наилучшие значения гиперпараметров XGBoost: {'n_estimators': 196, 'max_depth': 12, 'learning_rate': 0.13109105604650967, 'gamma': 8.434935424758933, 'reg_lambda': 0.7892367276877359, 'min_child_weight': 0.9582414005952598}\n",
      "f1_score на обучающем наборе: 0.615\n"
     ]
    }
   ],
   "source": [
    "print(\"Наилучшие значения гиперпараметров XGBoost: {}\".format(study_xgb_cw.best_params))\n",
    "print(\"f1_score на обучающем наборе: {:.3f}\". format(study_xgb_cw.best_value))"
   ],
   "metadata": {
    "collapsed": false,
    "ExecuteTime": {
     "end_time": "2023-12-05T21:49:16.070125100Z",
     "start_time": "2023-12-05T21:49:15.911294600Z"
    }
   }
  },
  {
   "cell_type": "code",
   "execution_count": 26,
   "outputs": [],
   "source": [
    "with mlflow.start_run(nested=True,\n",
    "                      run_name='xgb_pipeline_class_weight'):\n",
    "\n",
    "    best_params = study_xgb_cw.best_params\n",
    "    best_score = study_xgb_cw.best_value\n",
    "    mlflow.log_params(best_params)\n",
    "\n",
    "    xgb_pipe_cw = Pipeline([\n",
    "        ('preprocessor', preprocessor),\n",
    "        ('model', xgb.XGBClassifier(**best_params,\n",
    "                                    scale_pos_weight=3.91,\n",
    "                                    random_state=12345))\n",
    "    ])\n",
    "\n",
    "    xgb_pipe_cw.fit(X_train, y_train) \n",
    "\n",
    "    pred_proba = xgb_pipe_cw.predict_proba(X_test)[:, 1]\n",
    "    roc_auc_xgb_cw = roc_auc_score(y_test, pred_proba)\n",
    "    \n",
    "    mlflow.log_metrics({\n",
    "        'f1_cv': best_score,\n",
    "        'roc_auc': roc_auc_xgb_cw,\n",
    "        'balanced_accuracy': balanced_accuracy_score(y_test, np.round(pred_proba, 0)),\n",
    "        'f1': f1_score(y_test, np.round(pred_proba, 0))\n",
    "    })\n",
    "\n",
    "    mlflow.sklearn.log_model(xgb_pipe_cw, 'xgb_pipeline_class_weight')"
   ],
   "metadata": {
    "collapsed": false,
    "ExecuteTime": {
     "end_time": "2023-12-05T21:49:23.587300100Z",
     "start_time": "2023-12-05T21:49:16.060111800Z"
    }
   }
  },
  {
   "cell_type": "markdown",
   "source": [
    "### 3.1.2 Случайный лес"
   ],
   "metadata": {
    "collapsed": false
   }
  },
  {
   "cell_type": "code",
   "execution_count": 27,
   "outputs": [],
   "source": [
    "def optuna_optimize(trial):\n",
    "    param = {\n",
    "        'n_estimators': trial.suggest_int('n_estimators', 50, 300), \n",
    "        'max_depth': trial.suggest_int('max_depth', 2, 10), \n",
    "        'min_samples_leaf': trial.suggest_int('min_samples_leaf', 2, 8)\n",
    "    }\n",
    "\n",
    "    estimator = RandomForestClassifier(**param, \n",
    "                                       class_weight='balanced',\n",
    "                                       random_state=12345)\n",
    "\n",
    "    rf_pipe = Pipeline([\n",
    "        ('preprocessor', preprocessor),\n",
    "        ('model', estimator)\n",
    "    ])\n",
    "\n",
    "    score = cross_val_score(rf_pipe, X_train, y_train, cv=5, scoring='f1').mean()\n",
    "    return score"
   ],
   "metadata": {
    "collapsed": false,
    "ExecuteTime": {
     "end_time": "2023-12-05T21:49:23.666382700Z",
     "start_time": "2023-12-05T21:49:23.602934200Z"
    }
   }
  },
  {
   "cell_type": "code",
   "execution_count": 28,
   "outputs": [],
   "source": [
    "study_rf = optuna.create_study(study_name=\"RandomForest Optuna Optimization Class Weight\",\n",
    "                                direction='maximize')"
   ],
   "metadata": {
    "collapsed": false,
    "ExecuteTime": {
     "end_time": "2023-12-05T21:49:23.670164Z",
     "start_time": "2023-12-05T21:49:23.621140700Z"
    }
   }
  },
  {
   "cell_type": "code",
   "execution_count": 29,
   "outputs": [],
   "source": [
    "study_rf.optimize(optuna_optimize, n_trials=100)"
   ],
   "metadata": {
    "collapsed": false,
    "ExecuteTime": {
     "end_time": "2023-12-05T22:03:38.474192Z",
     "start_time": "2023-12-05T21:49:23.637380600Z"
    }
   }
  },
  {
   "cell_type": "code",
   "execution_count": 30,
   "outputs": [
    {
     "name": "stdout",
     "output_type": "stream",
     "text": [
      "Наилучшие значения гиперпараметров Random Forest: {'n_estimators': 150, 'max_depth': 10, 'min_samples_leaf': 4}\n",
      "f1_score на обучающем наборе: 0.621\n"
     ]
    }
   ],
   "source": [
    "print(\"Наилучшие значения гиперпараметров Random Forest: {}\".format(study_rf.best_params))\n",
    "print(\"f1_score на обучающем наборе: {:.3f}\". format(study_rf.best_value))"
   ],
   "metadata": {
    "collapsed": false,
    "ExecuteTime": {
     "end_time": "2023-12-05T22:03:38.500601200Z",
     "start_time": "2023-12-05T22:03:38.486845200Z"
    }
   }
  },
  {
   "cell_type": "code",
   "execution_count": 31,
   "outputs": [],
   "source": [
    "with mlflow.start_run(nested=True,\n",
    "                      run_name='rf_pipeline_class_weight'):\n",
    "\n",
    "    best_params = study_rf.best_params\n",
    "    best_score = study_rf.best_value\n",
    "    mlflow.log_params(best_params)\n",
    "\n",
    "    rf_pipe_cw = Pipeline([\n",
    "        ('preprocessor', preprocessor),\n",
    "        ('model', RandomForestClassifier(**best_params,\n",
    "                                         class_weight='balanced',\n",
    "                                         random_state=12345))\n",
    "    ])\n",
    "\n",
    "    rf_pipe_cw.fit(X_train, y_train)\n",
    "\n",
    "    pred_proba = rf_pipe_cw.predict_proba(X_test)[:, 1]\n",
    "    roc_auc_rf_cw = roc_auc_score(y_test, pred_proba)\n",
    "    \n",
    "    mlflow.log_metrics({\n",
    "        'f1_cv': best_score,\n",
    "        'roc_auc': roc_auc_rf_cw,\n",
    "        'balanced_accuracy': balanced_accuracy_score(y_test, np.round(pred_proba, 0)),\n",
    "        'f1': f1_score(y_test, np.round(pred_proba, 0))\n",
    "    })\n",
    "    \n",
    "    mlflow.sklearn.log_model(rf_pipe_cw, 'rf_pipeline_class_weight')"
   ],
   "metadata": {
    "collapsed": false,
    "ExecuteTime": {
     "end_time": "2023-12-05T22:03:49.022026100Z",
     "start_time": "2023-12-05T22:03:38.490191600Z"
    }
   }
  },
  {
   "cell_type": "markdown",
   "source": [
    "### 3.1.3 Логистическая регрессия"
   ],
   "metadata": {
    "collapsed": false
   }
  },
  {
   "cell_type": "code",
   "execution_count": 32,
   "outputs": [],
   "source": [
    "cat_pipeline = Pipeline([\n",
    "    ('enc', OneHotEncoder(handle_unknown='error', drop='first'))\n",
    "])\n",
    "\n",
    "num_pipeline = Pipeline([\n",
    "    ('imp', SimpleImputer(fill_value=-1, add_indicator=True)),\n",
    "    ('pt', PowerTransformer()),\n",
    "    ('scal', StandardScaler())\n",
    "])\n",
    "\n",
    "preprocessor = ColumnTransformer([\n",
    "    (\"cat\", cat_pipeline, categorical_features),\n",
    "    (\"num\", num_pipeline, numeric_features)\n",
    "], remainder='passthrough')"
   ],
   "metadata": {
    "collapsed": false,
    "ExecuteTime": {
     "end_time": "2023-12-05T22:03:49.111511900Z",
     "start_time": "2023-12-05T22:03:49.031300600Z"
    }
   }
  },
  {
   "cell_type": "code",
   "execution_count": 33,
   "outputs": [],
   "source": [
    "def optuna_optimize(trial):\n",
    "    param = {\n",
    "        'solver': trial.suggest_categorical('solver', ['lbfgs', 'saga'])\n",
    "    }\n",
    "    \n",
    "    if param['solver'] == 'lbfgs':\n",
    "        param['penalty'] = 'l2' \n",
    "\n",
    "    if param['solver'] == 'saga':\n",
    "        param['penalty'] = 'elasticnet' \n",
    "        param['C'] = trial.suggest_float('C', 0.01, 100) \n",
    "        param['l1_ratio'] = trial.suggest_float('l1_ratio', 0, 1)\n",
    "        param['max_iter'] = 1000 \n",
    "        \n",
    "    estimator = LogisticRegression(**param,  \n",
    "                                   class_weight='balanced',\n",
    "                                   random_state=12345)\n",
    "\n",
    "    log_reg_pipe = Pipeline([\n",
    "        ('preprocessor', preprocessor),\n",
    "        ('model', estimator)\n",
    "    ])\n",
    "    \n",
    "    score = cross_val_score(log_reg_pipe, X_train, y_train, cv=5, scoring='f1').mean()\n",
    "    return score"
   ],
   "metadata": {
    "collapsed": false,
    "ExecuteTime": {
     "end_time": "2023-12-05T22:03:49.123061900Z",
     "start_time": "2023-12-05T22:03:49.077456900Z"
    }
   }
  },
  {
   "cell_type": "code",
   "execution_count": 34,
   "outputs": [],
   "source": [
    "study_log_reg = optuna.create_study(study_name=\"LogisticRegression Optuna Optimization Class Weight\",\n",
    "                                direction='maximize')"
   ],
   "metadata": {
    "collapsed": false,
    "ExecuteTime": {
     "end_time": "2023-12-05T22:03:49.282131600Z",
     "start_time": "2023-12-05T22:03:49.107382100Z"
    }
   }
  },
  {
   "cell_type": "code",
   "execution_count": 35,
   "outputs": [],
   "source": [
    "study_log_reg.optimize(optuna_optimize, n_trials=100)"
   ],
   "metadata": {
    "collapsed": false,
    "ExecuteTime": {
     "end_time": "2023-12-05T22:04:58.057831300Z",
     "start_time": "2023-12-05T22:03:49.127527500Z"
    }
   }
  },
  {
   "cell_type": "code",
   "execution_count": 36,
   "outputs": [
    {
     "name": "stdout",
     "output_type": "stream",
     "text": [
      "Наилучшие значения гиперпараметров Logistic Regression: {'solver': 'saga', 'C': 0.029066592494481222, 'l1_ratio': 0.4028748395604096}\n",
      "f1_score на обучающем наборе: 0.495\n"
     ]
    }
   ],
   "source": [
    "print(\"Наилучшие значения гиперпараметров Logistic Regression: {}\".format(study_log_reg.best_params))\n",
    "print(\"f1_score на обучающем наборе: {:.3f}\". format(study_log_reg.best_value))"
   ],
   "metadata": {
    "collapsed": false,
    "ExecuteTime": {
     "end_time": "2023-12-05T22:04:58.071916300Z",
     "start_time": "2023-12-05T22:04:58.063236300Z"
    }
   }
  },
  {
   "cell_type": "code",
   "execution_count": 37,
   "outputs": [],
   "source": [
    "with mlflow.start_run(nested=True,\n",
    "                      run_name='log_reg_pipeline_class_weight'):\n",
    "\n",
    "    best_params = study_log_reg.best_params\n",
    "    best_score = study_log_reg.best_value\n",
    "    mlflow.log_params(best_params)\n",
    "\n",
    "    log_reg_pipe_cw = Pipeline([\n",
    "        ('preprocessor', preprocessor),\n",
    "        ('model', LogisticRegression(**best_params,\n",
    "                                     class_weight='balanced',\n",
    "                                     random_state=12345))\n",
    "    ])\n",
    "\n",
    "    log_reg_pipe_cw.fit(X_train, y_train)\n",
    "\n",
    "    pred_proba = log_reg_pipe_cw.predict_proba(X_test)[:, 1]\n",
    "    roc_auc_lr_cw = roc_auc_score(y_test, pred_proba)\n",
    "    \n",
    "    mlflow.log_metrics({\n",
    "        'f1_cv': best_score,\n",
    "        'roc_auc': roc_auc_lr_cw,\n",
    "        'balanced_accuracy': balanced_accuracy_score(y_test, np.round(pred_proba, 0)),\n",
    "        'f1': f1_score(y_test, np.round(pred_proba, 0))\n",
    "    })\n",
    "    \n",
    "    mlflow.sklearn.log_model(log_reg_pipe_cw, 'log_reg_pipeline_class_weight')"
   ],
   "metadata": {
    "collapsed": false,
    "ExecuteTime": {
     "end_time": "2023-12-05T22:05:02.656666300Z",
     "start_time": "2023-12-05T22:04:58.071916300Z"
    }
   }
  },
  {
   "cell_type": "markdown",
   "source": [
    "### 3.1.4 Метод опорных векторов"
   ],
   "metadata": {
    "collapsed": false
   }
  },
  {
   "cell_type": "code",
   "execution_count": 38,
   "outputs": [],
   "source": [
    "def optuna_optimize(trial):\n",
    "\n",
    "    param = {\n",
    "        'C': trial.suggest_float('C', 0.01, 3)  # какие значения может принимать С \n",
    "    }\n",
    " \n",
    "    estimator = SVC(**param, \n",
    "                    class_weight='balanced',\n",
    "                    random_state=12345,\n",
    "                    probability=True)\n",
    "    \n",
    "    svc_pipe = Pipeline([\n",
    "        ('preprocessor', preprocessor),\n",
    "        ('model', estimator)\n",
    "    ])\n",
    "    \n",
    "    score = cross_val_score(svc_pipe, X_train, y_train, cv=5, scoring='f1').mean()\n",
    "    return score"
   ],
   "metadata": {
    "collapsed": false,
    "ExecuteTime": {
     "end_time": "2023-12-05T22:05:02.708309800Z",
     "start_time": "2023-12-05T22:05:02.686131500Z"
    }
   }
  },
  {
   "cell_type": "code",
   "execution_count": 39,
   "outputs": [],
   "source": [
    "study_svc = optuna.create_study(study_name=\"SVC Optuna Optimization Class Weight\",\n",
    "                                    direction='maximize')"
   ],
   "metadata": {
    "collapsed": false,
    "ExecuteTime": {
     "end_time": "2023-12-05T22:05:02.769730500Z",
     "start_time": "2023-12-05T22:05:02.689221600Z"
    }
   }
  },
  {
   "cell_type": "code",
   "execution_count": 40,
   "outputs": [],
   "source": [
    "study_svc.optimize(optuna_optimize, n_trials=10)"
   ],
   "metadata": {
    "collapsed": false,
    "ExecuteTime": {
     "end_time": "2023-12-05T22:13:20.841825800Z",
     "start_time": "2023-12-05T22:05:02.708309800Z"
    }
   }
  },
  {
   "cell_type": "code",
   "execution_count": 41,
   "outputs": [
    {
     "name": "stdout",
     "output_type": "stream",
     "text": [
      "Наилучшие значения гиперпараметров SVC: {'C': 2.416985930109804}\n",
      "f1_score на обучающем наборе: 0.579\n"
     ]
    }
   ],
   "source": [
    "print(\"Наилучшие значения гиперпараметров SVC: {}\".format(study_svc.best_params))\n",
    "print(\"f1_score на обучающем наборе: {:.3f}\". format(study_svc.best_value))"
   ],
   "metadata": {
    "collapsed": false,
    "ExecuteTime": {
     "end_time": "2023-12-05T22:13:20.877483600Z",
     "start_time": "2023-12-05T22:13:20.841825800Z"
    }
   }
  },
  {
   "cell_type": "code",
   "execution_count": 42,
   "outputs": [],
   "source": [
    "with mlflow.start_run(nested=True,\n",
    "                      run_name='svc_pipeline_class_weight'):\n",
    "\n",
    "    best_params = study_svc.best_params\n",
    "    best_score = study_svc.best_value\n",
    "    mlflow.log_params(best_params)\n",
    "\n",
    "    svc_pipe_cw = Pipeline([\n",
    "        ('preprocessor', preprocessor),\n",
    "        ('model', SVC(**best_params,\n",
    "                      class_weight='balanced',\n",
    "                      random_state=12345,\n",
    "                      probability=True))\n",
    "    ])\n",
    "\n",
    "    svc_pipe_cw.fit(X_train, y_train)\n",
    "\n",
    "    pred_proba = svc_pipe_cw.predict_proba(X_test)[:, 1]\n",
    "    roc_auc_svc_cw = roc_auc_score(y_test, pred_proba)\n",
    "    \n",
    "    mlflow.log_metrics({\n",
    "        'f1_cv': best_score,\n",
    "        'roc_auc': roc_auc_svc_cw,\n",
    "        'balanced_accuracy': balanced_accuracy_score(y_test, np.round(pred_proba, 0)),\n",
    "        'f1': f1_score(y_test, np.round(pred_proba, 0))\n",
    "    })\n",
    "    \n",
    "    mlflow.sklearn.log_model(svc_pipe_cw, 'svc_pipeline_class_weight')"
   ],
   "metadata": {
    "collapsed": false,
    "ExecuteTime": {
     "end_time": "2023-12-05T22:13:40.938661900Z",
     "start_time": "2023-12-05T22:13:20.857669300Z"
    }
   }
  },
  {
   "cell_type": "markdown",
   "source": [
    "## 3.2 Генерация синтетических данных (SMOTE)\n",
    "### 3.2.1 Модель XGBoost"
   ],
   "metadata": {
    "collapsed": false
   }
  },
  {
   "cell_type": "code",
   "execution_count": 43,
   "outputs": [],
   "source": [
    "cat_pipeline = Pipeline([\n",
    "    ('enc', OneHotEncoder(handle_unknown='error', drop='first'))\n",
    "])\n",
    "\n",
    "num_pipeline = Pipeline([\n",
    "    ('imp', SimpleImputer(fill_value=-1, add_indicator=True)),\n",
    "    ('pt', PowerTransformer())\n",
    "])\n",
    "\n",
    "preprocessor = ColumnTransformer([\n",
    "    (\"cat\", cat_pipeline, categorical_features),\n",
    "    (\"num\", num_pipeline, numeric_features)\n",
    "], remainder='passthrough')"
   ],
   "metadata": {
    "collapsed": false,
    "ExecuteTime": {
     "end_time": "2023-12-05T22:13:41.002113100Z",
     "start_time": "2023-12-05T22:13:40.944533400Z"
    }
   }
  },
  {
   "cell_type": "code",
   "execution_count": 44,
   "outputs": [],
   "source": [
    "def optuna_optimize(trial):\n",
    "    param = {\n",
    "        'n_estimators': trial.suggest_int('n_estimators', 50, 500),\n",
    "        'max_depth': trial.suggest_int('max_depth', 2, 16),\n",
    "        'learning_rate': trial.suggest_float('learning_rate', 0.01, 1.0),\n",
    "        'gamma': trial.suggest_float('gamma', 0.0, 20.0),\n",
    "        'reg_lambda': trial.suggest_float('reg_lambda', 0.0, 1.0),\n",
    "        'min_child_weight': trial.suggest_float('min_child_weight', 0.0, 5.0)\n",
    "    }\n",
    "\n",
    "    estimator = xgb.XGBClassifier(**param,\n",
    "                                  random_state=12345)\n",
    "\n",
    "    xgb_pipe = Pipeline([\n",
    "        ('preprocessor', preprocessor),\n",
    "        ('smote', SMOTE(random_state=12345)),\n",
    "        ('model', estimator)\n",
    "    ])\n",
    "\n",
    "    score = cross_val_score(xgb_pipe, X_train, y_train, cv=5, scoring='f1').mean()\n",
    "    return score"
   ],
   "metadata": {
    "collapsed": false,
    "ExecuteTime": {
     "end_time": "2023-12-05T22:13:41.002113100Z",
     "start_time": "2023-12-05T22:13:40.976918800Z"
    }
   }
  },
  {
   "cell_type": "code",
   "execution_count": 45,
   "outputs": [],
   "source": [
    "study_xgb_smote = optuna.create_study(study_name=\"XGBoost Optuna Optimization SMOTE\",\n",
    "                                direction='maximize')"
   ],
   "metadata": {
    "collapsed": false,
    "ExecuteTime": {
     "end_time": "2023-12-05T22:13:41.129964Z",
     "start_time": "2023-12-05T22:13:41.027713900Z"
    }
   }
  },
  {
   "cell_type": "code",
   "execution_count": 46,
   "outputs": [],
   "source": [
    "study_xgb_smote.optimize(optuna_optimize, n_trials=1000)"
   ],
   "metadata": {
    "collapsed": false,
    "ExecuteTime": {
     "end_time": "2023-12-05T22:41:06.330468700Z",
     "start_time": "2023-12-05T22:13:41.034226500Z"
    }
   }
  },
  {
   "cell_type": "code",
   "execution_count": 47,
   "outputs": [
    {
     "name": "stdout",
     "output_type": "stream",
     "text": [
      "Наилучшие значения гиперпараметров XGBoost: {'n_estimators': 63, 'max_depth': 15, 'learning_rate': 0.15832529671587797, 'gamma': 11.638089482051441, 'reg_lambda': 0.017080812834569883, 'min_child_weight': 3.1315840621582343}\n",
      "f1_score на обучающем наборе: 0.634\n"
     ]
    }
   ],
   "source": [
    "print(\"Наилучшие значения гиперпараметров XGBoost: {}\".format(study_xgb_smote.best_params))\n",
    "print(\"f1_score на обучающем наборе: {:.3f}\". format(study_xgb_smote.best_value))"
   ],
   "metadata": {
    "collapsed": false,
    "ExecuteTime": {
     "end_time": "2023-12-05T22:41:06.354169800Z",
     "start_time": "2023-12-05T22:41:06.351037200Z"
    }
   }
  },
  {
   "cell_type": "code",
   "execution_count": 48,
   "outputs": [],
   "source": [
    "with mlflow.start_run(nested=True,\n",
    "                      run_name='xgb_pipeline_smote'):\n",
    "\n",
    "    best_params = study_xgb_smote.best_params\n",
    "    best_score = study_xgb_smote.best_value\n",
    "    mlflow.log_params(best_params)\n",
    "\n",
    "    xgb_pipe_sm = Pipeline([\n",
    "        ('preprocessor', preprocessor),\n",
    "        ('smote', SMOTE(random_state=12345)),\n",
    "        ('model', xgb.XGBClassifier(**best_params,\n",
    "                                    random_state=12345))\n",
    "    ])\n",
    "\n",
    "    xgb_pipe_sm.fit(X_train, y_train)\n",
    "\n",
    "    pred_proba = xgb_pipe_sm.predict_proba(X_test)[:, 1]\n",
    "    roc_auc_xgb_sm = roc_auc_score(y_test, pred_proba)\n",
    "    \n",
    "    mlflow.log_metrics({\n",
    "        'f1_cv': best_score,\n",
    "        'roc_auc': roc_auc_xgb_sm,\n",
    "        'balanced_accuracy': balanced_accuracy_score(y_test, np.round(pred_proba, 0)),\n",
    "        'f1': f1_score(y_test, np.round(pred_proba, 0))\n",
    "    })\n",
    "\n",
    "    mlflow.sklearn.log_model(xgb_pipe_sm, 'xgb_pipeline_smote')"
   ],
   "metadata": {
    "collapsed": false,
    "ExecuteTime": {
     "end_time": "2023-12-05T22:41:14.036110100Z",
     "start_time": "2023-12-05T22:41:06.368678300Z"
    }
   }
  },
  {
   "cell_type": "markdown",
   "source": [
    "### 3.2.2 Случайный лес"
   ],
   "metadata": {
    "collapsed": false
   }
  },
  {
   "cell_type": "code",
   "execution_count": 49,
   "outputs": [],
   "source": [
    "def optuna_optimize(trial):\n",
    "    param = {\n",
    "        'n_estimators': trial.suggest_int('n_estimators', 50, 300),\n",
    "        'max_depth': trial.suggest_int('max_depth', 2, 10),\n",
    "        'min_samples_leaf': trial.suggest_int('min_samples_leaf', 2, 8)\n",
    "    }\n",
    "\n",
    "    estimator = RandomForestClassifier(**param,\n",
    "                                       random_state=12345)\n",
    "\n",
    "    rf_pipe = Pipeline([\n",
    "        ('preprocessor', preprocessor),\n",
    "        ('smote', SMOTE(random_state=12345)),\n",
    "        ('model', estimator)\n",
    "    ])\n",
    "\n",
    "    score = cross_val_score(rf_pipe, X_train, y_train, cv=5, scoring='f1').mean()\n",
    "    return score"
   ],
   "metadata": {
    "collapsed": false,
    "ExecuteTime": {
     "end_time": "2023-12-05T22:41:14.067751500Z",
     "start_time": "2023-12-05T22:41:14.063728100Z"
    }
   }
  },
  {
   "cell_type": "code",
   "execution_count": 50,
   "outputs": [],
   "source": [
    "study_rf_smote = optuna.create_study(study_name=\"RandomForest Optuna Optimization SMOTE\",\n",
    "                               direction='maximize')"
   ],
   "metadata": {
    "collapsed": false,
    "ExecuteTime": {
     "end_time": "2023-12-05T22:41:14.233878800Z",
     "start_time": "2023-12-05T22:41:14.067751500Z"
    }
   }
  },
  {
   "cell_type": "code",
   "execution_count": 51,
   "outputs": [],
   "source": [
    "study_rf_smote.optimize(optuna_optimize, n_trials=100)"
   ],
   "metadata": {
    "collapsed": false,
    "ExecuteTime": {
     "end_time": "2023-12-05T23:12:32.726353200Z",
     "start_time": "2023-12-05T22:41:14.099411100Z"
    }
   }
  },
  {
   "cell_type": "code",
   "execution_count": 52,
   "outputs": [
    {
     "name": "stdout",
     "output_type": "stream",
     "text": [
      "Наилучшие значения гиперпараметров RandomForest: {'n_estimators': 177, 'max_depth': 10, 'min_samples_leaf': 3}\n",
      "f1_score на обучающем наборе: 0.615\n"
     ]
    }
   ],
   "source": [
    "print(\"Наилучшие значения гиперпараметров RandomForest: {}\".format(study_rf_smote.best_params))\n",
    "print(\"f1_score на обучающем наборе: {:.3f}\". format(study_rf_smote.best_value))"
   ],
   "metadata": {
    "collapsed": false,
    "ExecuteTime": {
     "end_time": "2023-12-05T23:12:32.739390600Z",
     "start_time": "2023-12-05T23:12:32.739390600Z"
    }
   }
  },
  {
   "cell_type": "code",
   "execution_count": 53,
   "outputs": [],
   "source": [
    "with mlflow.start_run(nested=True,\n",
    "                      run_name='rf_pipeline_smote'):\n",
    "\n",
    "    best_params = study_rf_smote.best_params\n",
    "    best_score = study_rf_smote.best_value\n",
    "    mlflow.log_params(best_params)\n",
    "\n",
    "    rf_pipe_sm = Pipeline([\n",
    "        ('preprocessor', preprocessor),\n",
    "        ('smote', SMOTE(random_state=12345)),\n",
    "        ('model', RandomForestClassifier(**best_params,\n",
    "                                         random_state=12345))\n",
    "    ])\n",
    "\n",
    "    rf_pipe_sm.fit(X_train, y_train)\n",
    "\n",
    "    pred_proba = rf_pipe_sm.predict_proba(X_test)[:, 1]\n",
    "    roc_auc_rf_sm = roc_auc_score(y_test, pred_proba)\n",
    "    \n",
    "    mlflow.log_metrics({\n",
    "        'f1_cv': best_score,\n",
    "        'roc_auc': roc_auc_rf_sm,\n",
    "        'balanced_accuracy': balanced_accuracy_score(y_test, np.round(pred_proba, 0)),\n",
    "        'f1': f1_score(y_test, np.round(pred_proba, 0))\n",
    "    })\n",
    "    \n",
    "    mlflow.sklearn.log_model(rf_pipe_sm, 'rf_pipeline_smote')"
   ],
   "metadata": {
    "collapsed": false,
    "ExecuteTime": {
     "end_time": "2023-12-05T23:12:45.107748600Z",
     "start_time": "2023-12-05T23:12:32.739390600Z"
    }
   }
  },
  {
   "cell_type": "markdown",
   "source": [
    "### 3.2.3 Логистическая регрессия"
   ],
   "metadata": {
    "collapsed": false
   }
  },
  {
   "cell_type": "code",
   "execution_count": 54,
   "outputs": [],
   "source": [
    "cat_pipeline = Pipeline([\n",
    "    ('enc', OneHotEncoder(handle_unknown='error', drop='first'))\n",
    "])\n",
    "\n",
    "num_pipeline = Pipeline([\n",
    "    ('imp', SimpleImputer(fill_value=-1, add_indicator=True)),\n",
    "    ('pt', PowerTransformer()),\n",
    "    ('scal', StandardScaler())\n",
    "])\n",
    "\n",
    "preprocessor = ColumnTransformer([\n",
    "    (\"cat\", cat_pipeline, categorical_features),\n",
    "    (\"num\", num_pipeline, numeric_features)\n",
    "], remainder='passthrough')"
   ],
   "metadata": {
    "collapsed": false,
    "ExecuteTime": {
     "end_time": "2023-12-05T23:12:45.142655500Z",
     "start_time": "2023-12-05T23:12:45.114748800Z"
    }
   }
  },
  {
   "cell_type": "code",
   "execution_count": 55,
   "outputs": [],
   "source": [
    "def optuna_optimize(trial):\n",
    "    param = {\n",
    "        'solver': trial.suggest_categorical('solver', ['lbfgs', 'saga'])\n",
    "    }\n",
    "\n",
    "    if param['solver'] == 'lbfgs':\n",
    "        param['penalty'] = 'l2' \n",
    "\n",
    "    if param['solver'] == 'saga':\n",
    "        param['penalty'] = 'elasticnet' \n",
    "        param['C'] = trial.suggest_float('C', 0.01, 100) # какие тут значения?\n",
    "        param['l1_ratio'] = trial.suggest_float('l1_ratio', 0, 1)\n",
    "        param['max_iter'] = 1000 \n",
    "\n",
    "    estimator = LogisticRegression(**param,\n",
    "                                   random_state=12345)\n",
    "\n",
    "    log_reg_pipe = Pipeline([\n",
    "        ('preprocessor', preprocessor),\n",
    "        ('smote', SMOTE(random_state=12345)),\n",
    "        ('model', estimator)\n",
    "    ])\n",
    "\n",
    "    score = cross_val_score(log_reg_pipe, X_train, y_train, cv=5, scoring='f1').mean()\n",
    "    return score"
   ],
   "metadata": {
    "collapsed": false,
    "ExecuteTime": {
     "end_time": "2023-12-05T23:12:45.257271300Z",
     "start_time": "2023-12-05T23:12:45.138006800Z"
    }
   }
  },
  {
   "cell_type": "code",
   "execution_count": 56,
   "outputs": [],
   "source": [
    "study_log_reg_smote = optuna.create_study(study_name=\"LogisticRegression Optuna Optimization SMOTE\",\n",
    "                                    direction='maximize')"
   ],
   "metadata": {
    "collapsed": false,
    "ExecuteTime": {
     "end_time": "2023-12-05T23:12:45.257271300Z",
     "start_time": "2023-12-05T23:12:45.156573900Z"
    }
   }
  },
  {
   "cell_type": "code",
   "execution_count": 57,
   "outputs": [],
   "source": [
    "study_log_reg_smote.optimize(optuna_optimize, n_trials=100)"
   ],
   "metadata": {
    "collapsed": false,
    "ExecuteTime": {
     "end_time": "2023-12-05T23:14:04.121110400Z",
     "start_time": "2023-12-05T23:12:45.170256200Z"
    }
   }
  },
  {
   "cell_type": "code",
   "execution_count": 58,
   "outputs": [
    {
     "name": "stdout",
     "output_type": "stream",
     "text": [
      "Наилучшие значения гиперпараметров Logistic Regression: {'solver': 'lbfgs'}\n",
      "f1_score на обучающем наборе: 0.493\n"
     ]
    }
   ],
   "source": [
    "print(\"Наилучшие значения гиперпараметров Logistic Regression: {}\".format(study_log_reg_smote.best_params))\n",
    "print(\"f1_score на обучающем наборе: {:.3f}\". format(study_log_reg_smote.best_value))"
   ],
   "metadata": {
    "collapsed": false,
    "ExecuteTime": {
     "end_time": "2023-12-05T23:14:04.154864300Z",
     "start_time": "2023-12-05T23:14:04.121110400Z"
    }
   }
  },
  {
   "cell_type": "code",
   "execution_count": 59,
   "outputs": [],
   "source": [
    "with mlflow.start_run(nested=True,\n",
    "                      run_name='log_reg_pipeline_smote'):\n",
    "\n",
    "    best_params = study_log_reg_smote.best_params\n",
    "    best_score = study_log_reg_smote.best_value\n",
    "    mlflow.log_params(best_params)\n",
    "\n",
    "    log_reg_pipe_sm = Pipeline([\n",
    "        ('preprocessor', preprocessor),\n",
    "        ('smote', SMOTE(random_state=12345)),\n",
    "        ('model', LogisticRegression(**best_params,\n",
    "                                     random_state=12345))\n",
    "    ])\n",
    "\n",
    "    log_reg_pipe_sm.fit(X_train, y_train)\n",
    "\n",
    "    pred_proba = log_reg_pipe_sm.predict_proba(X_test)[:, 1]\n",
    "    roc_auc_lr_sm = roc_auc_score(y_test, pred_proba)\n",
    "    \n",
    "    mlflow.log_metrics({\n",
    "        'f1_cv': best_score,\n",
    "        'roc_auc': roc_auc_lr_sm,\n",
    "        'balanced_accuracy': balanced_accuracy_score(y_test, np.round(pred_proba, 0)),\n",
    "        'f1': f1_score(y_test, np.round(pred_proba, 0))\n",
    "    })\n",
    "\n",
    "    mlflow.sklearn.log_model(log_reg_pipe_sm, 'log_reg_pipeline_smote')"
   ],
   "metadata": {
    "collapsed": false,
    "ExecuteTime": {
     "end_time": "2023-12-05T23:14:08.707382700Z",
     "start_time": "2023-12-05T23:14:04.134170200Z"
    }
   }
  },
  {
   "cell_type": "markdown",
   "source": [
    "### 3.2.4 Метод опорных векторов"
   ],
   "metadata": {
    "collapsed": false
   }
  },
  {
   "cell_type": "code",
   "execution_count": 60,
   "outputs": [],
   "source": [
    "def optuna_optimize(trial):\n",
    "\n",
    "    param = {\n",
    "        'C': trial.suggest_float('C', 0.01, 3)  \n",
    "    }\n",
    "\n",
    "    estimator = SVC(**param,\n",
    "                    random_state=12345,\n",
    "                    probability=True)\n",
    "\n",
    "    svc_pipe = Pipeline([\n",
    "        ('preprocessor', preprocessor),\n",
    "        ('smote', SMOTE(random_state=12345)),\n",
    "        ('model', estimator)\n",
    "    ])\n",
    "\n",
    "    score = cross_val_score(svc_pipe, X_train, y_train, cv=5, scoring='f1').mean()\n",
    "    \n",
    "    return score"
   ],
   "metadata": {
    "collapsed": false,
    "ExecuteTime": {
     "end_time": "2023-12-05T23:14:08.795182600Z",
     "start_time": "2023-12-05T23:14:08.707382700Z"
    }
   }
  },
  {
   "cell_type": "code",
   "execution_count": 61,
   "outputs": [],
   "source": [
    "study_svc_smote = optuna.create_study(study_name=\"SVC Optuna Optimization SMOTE\",\n",
    "                                direction='maximize')"
   ],
   "metadata": {
    "collapsed": false,
    "ExecuteTime": {
     "end_time": "2023-12-05T23:14:08.795182600Z",
     "start_time": "2023-12-05T23:14:08.735713800Z"
    }
   }
  },
  {
   "cell_type": "code",
   "execution_count": 62,
   "outputs": [],
   "source": [
    "study_svc_smote.optimize(optuna_optimize, n_trials=10)"
   ],
   "metadata": {
    "collapsed": false,
    "ExecuteTime": {
     "end_time": "2023-12-05T23:32:07.669961900Z",
     "start_time": "2023-12-05T23:14:08.763606300Z"
    }
   }
  },
  {
   "cell_type": "code",
   "execution_count": 63,
   "outputs": [
    {
     "name": "stdout",
     "output_type": "stream",
     "text": [
      "Наилучшие значения гиперпараметров SVC: {'C': 1.5530348857132203}\n",
      "f1_score на обучающем наборе: 0.576\n"
     ]
    }
   ],
   "source": [
    "print(\"Наилучшие значения гиперпараметров SVC: {}\".format(study_svc_smote.best_params))\n",
    "print(\"f1_score на обучающем наборе: {:.3f}\". format(study_svc_smote.best_value))"
   ],
   "metadata": {
    "collapsed": false,
    "ExecuteTime": {
     "end_time": "2023-12-05T23:32:07.739028900Z",
     "start_time": "2023-12-05T23:32:07.682091700Z"
    }
   }
  },
  {
   "cell_type": "code",
   "execution_count": 64,
   "outputs": [],
   "source": [
    "with mlflow.start_run(nested=True,\n",
    "                      run_name='svc_pipeline_smote'):\n",
    "\n",
    "    best_params = study_svc_smote.best_params\n",
    "    best_score = study_svc_smote.best_value\n",
    "    mlflow.log_params(best_params)\n",
    "\n",
    "    svc_pipe_sm = Pipeline([\n",
    "        ('preprocessor', preprocessor),\n",
    "        ('smote', SMOTE(random_state=12345)),\n",
    "        ('model', SVC(**best_params,\n",
    "                      random_state=12345,\n",
    "                      probability=True))\n",
    "    ])\n",
    "\n",
    "    svc_pipe_sm.fit(X_train, y_train)\n",
    "    pred_proba = svc_pipe_sm.predict_proba(X_test)[:, 1]\n",
    "    roc_auc_svc_sm = roc_auc_score(y_test, pred_proba)\n",
    "    \n",
    "    mlflow.log_metrics({\n",
    "        'f1_cv': best_score,\n",
    "        'roc_auc': roc_auc_svc_sm,\n",
    "        'balanced_accuracy': balanced_accuracy_score(y_test, np.round(pred_proba, 0)),\n",
    "        'f1': f1_score(y_test, np.round(pred_proba, 0))\n",
    "    })\n",
    "\n",
    "    mlflow.sklearn.log_model(svc_pipe_sm, 'svc_pipeline_smote')"
   ],
   "metadata": {
    "collapsed": false,
    "ExecuteTime": {
     "end_time": "2023-12-05T23:32:48.956626600Z",
     "start_time": "2023-12-05T23:32:07.694438800Z"
    }
   }
  },
  {
   "cell_type": "code",
   "execution_count": 65,
   "outputs": [],
   "source": [
    "colNames = [\"XGBoost\", \"Random Forest\", \"Logistic Regression\", \"SVC\"]\n",
    "f1_results = {\"Imbalanced\":[study_xgb.best_value, '-', '-', '-'],\n",
    "           \"Class Weight\":[study_xgb_cw.best_value, \n",
    "                           study_rf.best_value, \n",
    "                           study_log_reg.best_value, \n",
    "                           study_svc.best_value],\n",
    "           \"SMOTE\":[study_xgb_smote.best_value, \n",
    "                    study_rf_smote.best_value, \n",
    "                    study_log_reg_smote.best_value, \n",
    "                    study_svc_smote.best_value]}"
   ],
   "metadata": {
    "collapsed": false,
    "ExecuteTime": {
     "end_time": "2023-12-05T23:32:49.054426300Z",
     "start_time": "2023-12-05T23:32:48.990438Z"
    }
   }
  },
  {
   "cell_type": "code",
   "execution_count": 66,
   "outputs": [],
   "source": [
    "# результаты метрики f1 score на кросс-валидации:\n",
    "f1_table = pd.DataFrame.from_dict(f1_results, orient='index', columns=colNames)"
   ],
   "metadata": {
    "collapsed": false,
    "ExecuteTime": {
     "end_time": "2023-12-05T23:32:49.087890Z",
     "start_time": "2023-12-05T23:32:49.012508200Z"
    }
   }
  },
  {
   "cell_type": "code",
   "execution_count": 67,
   "outputs": [
    {
     "data": {
      "text/plain": "               XGBoost Random Forest Logistic Regression       SVC\nImbalanced    0.598729             -                   -         -\nClass Weight  0.614797      0.621485            0.495472  0.578921\nSMOTE         0.634221      0.615066            0.493169  0.575875",
      "text/html": "<div>\n<style scoped>\n    .dataframe tbody tr th:only-of-type {\n        vertical-align: middle;\n    }\n\n    .dataframe tbody tr th {\n        vertical-align: top;\n    }\n\n    .dataframe thead th {\n        text-align: right;\n    }\n</style>\n<table border=\"1\" class=\"dataframe\">\n  <thead>\n    <tr style=\"text-align: right;\">\n      <th></th>\n      <th>XGBoost</th>\n      <th>Random Forest</th>\n      <th>Logistic Regression</th>\n      <th>SVC</th>\n    </tr>\n  </thead>\n  <tbody>\n    <tr>\n      <th>Imbalanced</th>\n      <td>0.598729</td>\n      <td>-</td>\n      <td>-</td>\n      <td>-</td>\n    </tr>\n    <tr>\n      <th>Class Weight</th>\n      <td>0.614797</td>\n      <td>0.621485</td>\n      <td>0.495472</td>\n      <td>0.578921</td>\n    </tr>\n    <tr>\n      <th>SMOTE</th>\n      <td>0.634221</td>\n      <td>0.615066</td>\n      <td>0.493169</td>\n      <td>0.575875</td>\n    </tr>\n  </tbody>\n</table>\n</div>"
     },
     "execution_count": 67,
     "metadata": {},
     "output_type": "execute_result"
    }
   ],
   "source": [
    "f1_table"
   ],
   "metadata": {
    "collapsed": false,
    "ExecuteTime": {
     "end_time": "2023-12-05T23:32:49.128808400Z",
     "start_time": "2023-12-05T23:32:49.040842Z"
    }
   }
  },
  {
   "cell_type": "code",
   "execution_count": 68,
   "outputs": [],
   "source": [
    "roc_auc_results = {\"Imbalanced\":[roc_auc_xgb_imb, '-', '-', '-'],\n",
    "           \"Class Weight\":[roc_auc_xgb_cw,\n",
    "                           roc_auc_rf_cw,\n",
    "                           roc_auc_lr_cw,\n",
    "                           roc_auc_svc_cw],\n",
    "           \"SMOTE\":[roc_auc_xgb_sm,\n",
    "                    roc_auc_rf_sm,\n",
    "                    roc_auc_lr_sm,\n",
    "                    roc_auc_svc_sm]}"
   ],
   "metadata": {
    "collapsed": false,
    "ExecuteTime": {
     "end_time": "2023-12-05T23:32:49.128808400Z",
     "start_time": "2023-12-05T23:32:49.071638700Z"
    }
   }
  },
  {
   "cell_type": "code",
   "execution_count": 69,
   "outputs": [],
   "source": [
    "# результаты метрики roc_auc на тесте:\n",
    "roc_auc_table = pd.DataFrame.from_dict(roc_auc_results, orient='index', columns=colNames)"
   ],
   "metadata": {
    "collapsed": false,
    "ExecuteTime": {
     "end_time": "2023-12-05T23:32:49.194602600Z",
     "start_time": "2023-12-05T23:32:49.087890Z"
    }
   }
  },
  {
   "cell_type": "code",
   "execution_count": 70,
   "outputs": [
    {
     "data": {
      "text/plain": "               XGBoost Random Forest Logistic Regression       SVC\nImbalanced    0.863135             -                   -         -\nClass Weight  0.864775       0.87042            0.788744  0.841361\nSMOTE         0.867976      0.863804            0.787663  0.828519",
      "text/html": "<div>\n<style scoped>\n    .dataframe tbody tr th:only-of-type {\n        vertical-align: middle;\n    }\n\n    .dataframe tbody tr th {\n        vertical-align: top;\n    }\n\n    .dataframe thead th {\n        text-align: right;\n    }\n</style>\n<table border=\"1\" class=\"dataframe\">\n  <thead>\n    <tr style=\"text-align: right;\">\n      <th></th>\n      <th>XGBoost</th>\n      <th>Random Forest</th>\n      <th>Logistic Regression</th>\n      <th>SVC</th>\n    </tr>\n  </thead>\n  <tbody>\n    <tr>\n      <th>Imbalanced</th>\n      <td>0.863135</td>\n      <td>-</td>\n      <td>-</td>\n      <td>-</td>\n    </tr>\n    <tr>\n      <th>Class Weight</th>\n      <td>0.864775</td>\n      <td>0.87042</td>\n      <td>0.788744</td>\n      <td>0.841361</td>\n    </tr>\n    <tr>\n      <th>SMOTE</th>\n      <td>0.867976</td>\n      <td>0.863804</td>\n      <td>0.787663</td>\n      <td>0.828519</td>\n    </tr>\n  </tbody>\n</table>\n</div>"
     },
     "execution_count": 70,
     "metadata": {},
     "output_type": "execute_result"
    }
   ],
   "source": [
    "roc_auc_table"
   ],
   "metadata": {
    "collapsed": false,
    "ExecuteTime": {
     "end_time": "2023-12-05T23:32:49.221546200Z",
     "start_time": "2023-12-05T23:32:49.106785400Z"
    }
   }
  },
  {
   "cell_type": "markdown",
   "source": [
    "# 4. Тестирование лучшей модели\n",
    "\n",
    "Лучший результат метрики f1 на кросс-валидации показывает модель XGBoost с применением техники SMOTE, на втором месте - алгоритм Random Forest с назначением большего веса меньшему классу. При этом метрика ROC-AUC у первой равна 0,868, у второй - 0,87. Протестируем обе эти модели.\n"
   ],
   "metadata": {
    "collapsed": false
   }
  },
  {
   "cell_type": "code",
   "execution_count": 3,
   "outputs": [
    {
     "data": {
      "text/plain": "Downloading artifacts:   0%|          | 0/5 [00:00<?, ?it/s]",
      "application/vnd.jupyter.widget-view+json": {
       "version_major": 2,
       "version_minor": 0,
       "model_id": "e62ffbe76b104c8282e48d26a374925f"
      }
     },
     "metadata": {},
     "output_type": "display_data"
    }
   ],
   "source": [
    "best_model_xgb = mlflow.sklearn.load_model('runs:/016f63ffd42f49bfac2b469c3a1a09c0/xgb_pipeline_smote')"
   ],
   "metadata": {
    "collapsed": false,
    "ExecuteTime": {
     "end_time": "2023-12-07T09:30:30.326889200Z",
     "start_time": "2023-12-07T09:30:29.667442500Z"
    }
   }
  },
  {
   "cell_type": "code",
   "execution_count": 4,
   "outputs": [
    {
     "data": {
      "text/plain": "Downloading artifacts:   0%|          | 0/5 [00:00<?, ?it/s]",
      "application/vnd.jupyter.widget-view+json": {
       "version_major": 2,
       "version_minor": 0,
       "model_id": "58e71a118f774a14a6a8088ad28356bc"
      }
     },
     "metadata": {},
     "output_type": "display_data"
    }
   ],
   "source": [
    "best_model_rf = mlflow.sklearn.load_model('runs:/22433a40924543c8ad17218dc530dd27/rf_pipeline_class_weight')"
   ],
   "metadata": {
    "collapsed": false,
    "ExecuteTime": {
     "end_time": "2023-12-07T09:30:35.322911600Z",
     "start_time": "2023-12-07T09:30:32.793728300Z"
    }
   }
  },
  {
   "cell_type": "code",
   "execution_count": 20,
   "outputs": [
    {
     "name": "stdout",
     "output_type": "stream",
     "text": [
      "Результаты метрик модели XGBoost:\n",
      "\n",
      "ROC-AUC: 0.8680\n",
      "f1 score: 0.6262\n",
      "Balanced accuracy: 0.7670\n",
      "\n",
      "Результаты метрик модели Random Forest:\n",
      "\n",
      "ROC-AUC: 0.8704\n",
      "f1 score: 0.6473\n",
      "Balanced accuracy: 0.7938\n"
     ]
    }
   ],
   "source": [
    "pred_proba_xgb_smote = best_model_xgb.predict_proba(X_test)[:, 1]\n",
    "pred_proba_rf_cw = best_model_rf.predict_proba(X_test)[:, 1]\n",
    "print('Результаты метрик модели XGBoost:')\n",
    "print()\n",
    "print('ROC-AUC: {:.4f}'.format(roc_auc_score(y_test, pred_proba_xgb_smote)))\n",
    "print('f1 score: {:.4f}'.format(f1_score(y_test, np.round(pred_proba_xgb_smote))))\n",
    "print('Balanced accuracy: {:.4f}'.format(balanced_accuracy_score(y_test, np.round(pred_proba_xgb_smote))))\n",
    "print()\n",
    "print('Результаты метрик модели Random Forest:')\n",
    "print()\n",
    "print('ROC-AUC: {:.4f}'.format(roc_auc_score(y_test, pred_proba_rf_cw)))\n",
    "print('f1 score: {:.4f}'.format(f1_score(y_test, np.round(pred_proba_rf_cw))))\n",
    "print('Balanced accuracy: {:.4f}'.format(balanced_accuracy_score(y_test, np.round(pred_proba_rf_cw))))"
   ],
   "metadata": {
    "collapsed": false,
    "ExecuteTime": {
     "end_time": "2023-12-07T09:32:01.974904100Z",
     "start_time": "2023-12-07T09:32:01.789700600Z"
    }
   }
  },
  {
   "cell_type": "code",
   "execution_count": 21,
   "outputs": [
    {
     "data": {
      "text/plain": "<Figure size 1000x800 with 1 Axes>",
      "image/png": "[encoded data removed]"
     },
     "metadata": {},
     "output_type": "display_data"
    }
   ],
   "source": [
    "plt.figure(figsize=(10, 8))\n",
    "\n",
    "fpr, tpr, thresholds = roc_curve(y_test, pred_proba_xgb_smote)\n",
    "plt.plot(fpr, tpr, label=f'XGBClassifier: {round(roc_auc_score(y_test, pred_proba_xgb_smote), 4)}')\n",
    "\n",
    "fpr, tpr, thresholds = roc_curve(y_test, pred_proba_rf_cw)\n",
    "plt.plot(fpr, tpr, label=f'RandomForest: {round(roc_auc_score(y_test, pred_proba_rf_cw), 4)}')\n",
    "\n",
    "plt.plot([0, 1], [0, 1], linestyle='--', label='coin')\n",
    "\n",
    "plt.xlim([-0.02, 1.0])\n",
    "plt.ylim([0.0, 1.05])\n",
    "\n",
    "plt.xlabel('False Positive Rate')\n",
    "plt.ylabel('True Positive Rate')\n",
    "\n",
    "plt.title('ROC-кривая')\n",
    "\n",
    "plt.legend(loc='lower right')\n",
    "\n",
    "plt.show()"
   ],
   "metadata": {
    "collapsed": false,
    "ExecuteTime": {
     "end_time": "2023-12-07T09:32:13.697712900Z",
     "start_time": "2023-12-07T09:32:13.203966400Z"
    }
   }
  },
  {
   "cell_type": "code",
   "execution_count": 22,
   "outputs": [
    {
     "data": {
      "text/plain": "['best_model.pkl']"
     },
     "execution_count": 22,
     "metadata": {},
     "output_type": "execute_result"
    }
   ],
   "source": [
    "# сохраним лучшую модель:\n",
    "joblib.dump(best_model_rf, 'best_model.pkl')"
   ],
   "metadata": {
    "collapsed": false,
    "ExecuteTime": {
     "end_time": "2023-12-07T09:33:55.469864300Z",
     "start_time": "2023-12-07T09:33:55.307576400Z"
    }
   }
  },
  {
   "cell_type": "markdown",
   "source": [
    "В ходе работы над проектом были проделаны следующие шаги:\n",
    "\n",
    "1) Подготовлены данные к исследованию, а именно:\n",
    "\n",
    "- убраны из данных неинформативные столбцы с номером строки, номером ID и фамилией клиента;\n",
    "\n",
    "- обработаны пропуски в столбце Tenure - период, в течение которого человек является клиентом банка;\n",
    "\n",
    "- сделано кодирование категориальных признаков методом One-Hot Encoding, подходящим для разных видов ML;;\n",
    "\n",
    "- данные поделены на тренировочную, валидационную и тестовую выборки;\n",
    "\n",
    "- проверен датасет на сбалансированность классов в таргете (20% положительных ответов);\n",
    "\n",
    "- выполнена трансформация Йео-Джонсона;\n",
    "\n",
    "- сделано масштабирование численных признаков для моделей SVM и логистической регрессии.\n",
    "\n",
    "2) Проведено исследование задачи: построены четыре модели классификации: XGBoost, Случайный лес, Метод опорных векторов и Логистическая регрессия.\n",
    "\n",
    "3) Устранен дисбаланс классов двумя способами: с помощью применения техники SMOTE и добавления модели гиперпараметра class_weight. На новых данных модель Random Forest показала результат выше при применении гиперпараметра class_weight. Подбор гиперпараметров с изменением веса редкого класса помог довести показатель F1-меры до 0,647. Применение техники SMOTE оказалось чуть менее эффективно. Наилучшее качество достигается при использовании гиперпараметров:\n",
    "- n_estimators=150, \n",
    "- max_depth=10, \n",
    "- min_samples_leaf=4.\n",
    "\n",
    "4) Проведено тестирование финальной модели на тестовой выборке. Можно подтвердить, что нам получилось справиться с дисбалансом классов и удалось получить метрику f1 > 0.59."
   ],
   "metadata": {
    "collapsed": false
   }
  },
  {
   "cell_type": "code",
   "execution_count": null,
   "outputs": [],
   "source": [],
   "metadata": {
    "collapsed": false
   }
  }
 ],
 "metadata": {
  "kernelspec": {
   "display_name": "Python 3",
   "language": "python",
   "name": "python3"
  },
  "language_info": {
   "codemirror_mode": {
    "name": "ipython",
    "version": 2
   },
   "file_extension": ".py",
   "mimetype": "text/x-python",
   "name": "python",
   "nbconvert_exporter": "python",
   "pygments_lexer": "ipython2",
   "version": "2.7.6"
  }
 },
 "nbformat": 4,
 "nbformat_minor": 0
}
